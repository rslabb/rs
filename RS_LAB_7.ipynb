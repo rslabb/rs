{
  "nbformat": 4,
  "nbformat_minor": 0,
  "metadata": {
    "colab": {
      "provenance": []
    },
    "kernelspec": {
      "name": "python3",
      "display_name": "Python 3"
    },
    "language_info": {
      "name": "python"
    }
  },
  "cells": [
    {
      "cell_type": "code",
      "execution_count": null,
      "metadata": {
        "colab": {
          "base_uri": "https://localhost:8080/"
        },
        "id": "uucVu8rwQr5E",
        "outputId": "20980c46-7cc4-4ae3-d56a-7e67ad56c3d6"
      },
      "outputs": [
        {
          "output_type": "stream",
          "name": "stdout",
          "text": [
            "\n",
            "Enter your constraints for rainfall analysis:\n",
            "\n",
            "Recommended Years based on your constraints:\n",
            "    YEAR  Actual Rainfall: JUN-SEPT  Departure Percentage: JUN-SEPT\n",
            "89  1990                     1112.1                             9.0\n",
            "90  1991                      916.5                            -9.9\n",
            "91  1992                      955.4                            -5.9\n",
            "92  1993                     1069.8                             5.7\n",
            "94  1995                      867.6                           -14.3\n",
            "95  1996                      933.9                            -7.6\n",
            "96  1997                      994.1                            -1.0\n",
            "97  1998                      937.2                            -5.0\n",
            "98  1999                      944.3                            -6.2\n"
          ]
        }
      ],
      "source": [
        "import pandas as pd\n",
        "\n",
        "# Load dataset\n",
        "file_path = \"/content/dataset.csv\"\n",
        "df = pd.read_csv(file_path)\n",
        "\n",
        "# Remove empty unnamed columns\n",
        "df_cleaned = df.drop(columns=[\"Unnamed: 11\", \"Unnamed: 12\", \"Unnamed: 13\", \"Unnamed: 14\", \"Unnamed: 15\"], errors=\"ignore\")\n",
        "\n",
        "# Function to get user constraints\n",
        "def get_user_constraints():\n",
        "    print(\"\\nEnter your constraints for rainfall analysis:\")\n",
        "\n",
        "    start_year = 1990\n",
        "    end_year = 2000\n",
        "    min_rainfall = 800\n",
        "    max_rainfall = None\n",
        "    min_departure = None\n",
        "    max_departure = 10\n",
        "\n",
        "    # Convert numeric inputs\n",
        "    start_year = int(start_year) if start_year else None\n",
        "    end_year = int(end_year) if end_year else None\n",
        "    min_rainfall = float(min_rainfall) if min_rainfall else None\n",
        "    max_rainfall = float(max_rainfall) if max_rainfall else None\n",
        "    min_departure = float(min_departure) if min_departure else None\n",
        "    max_departure = float(max_departure) if max_departure else None\n",
        "\n",
        "    return start_year, end_year, min_rainfall, max_rainfall, min_departure, max_departure\n",
        "\n",
        "# Function to filter data based on constraints\n",
        "def recommend_years(df):\n",
        "    start_year, end_year, min_rainfall, max_rainfall, min_departure, max_departure = get_user_constraints()\n",
        "\n",
        "    # Apply constraints\n",
        "    filtered_df = df.copy()\n",
        "    if start_year:\n",
        "        filtered_df = filtered_df[filtered_df[\"YEAR\"] >= start_year]\n",
        "    if end_year:\n",
        "        filtered_df = filtered_df[filtered_df[\"YEAR\"] <= end_year]\n",
        "    if min_rainfall:\n",
        "        filtered_df = filtered_df[filtered_df[\"Actual Rainfall: JUN-SEPT\"] >= min_rainfall]\n",
        "    if max_rainfall:\n",
        "        filtered_df = filtered_df[filtered_df[\"Actual Rainfall: JUN-SEPT\"] <= max_rainfall]\n",
        "    if min_departure:\n",
        "        filtered_df = filtered_df[filtered_df[\"Departure Percentage: JUN-SEPT\"] >= min_departure]\n",
        "    if max_departure:\n",
        "        filtered_df = filtered_df[filtered_df[\"Departure Percentage: JUN-SEPT\"] <= max_departure]\n",
        "\n",
        "    # Display results\n",
        "    if not filtered_df.empty:\n",
        "        print(\"\\nRecommended Years based on your constraints:\")\n",
        "        print(filtered_df[[\"YEAR\", \"Actual Rainfall: JUN-SEPT\", \"Departure Percentage: JUN-SEPT\"]])\n",
        "    else:\n",
        "        print(\"\\nNo years match your constraints. Try relaxing some criteria.\")\n",
        "\n",
        "# Run the recommendation system\n",
        "recommend_years(df_cleaned)\n"
      ]
    }
  ]
}
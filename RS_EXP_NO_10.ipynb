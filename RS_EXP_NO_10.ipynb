{
  "nbformat": 4,
  "nbformat_minor": 0,
  "metadata": {
    "colab": {
      "provenance": []
    },
    "kernelspec": {
      "name": "python3",
      "display_name": "Python 3"
    },
    "language_info": {
      "name": "python"
    }
  },
  "cells": [
    {
      "cell_type": "code",
      "execution_count": null,
      "metadata": {
        "id": "3a7x6LIU8r2j",
        "outputId": "1840c99d-abac-45f3-a852-17d7bf8adc09",
        "colab": {
          "base_uri": "https://localhost:8080/"
        }
      },
      "outputs": [
        {
          "output_type": "stream",
          "name": "stdout",
          "text": [
            "{'A': 0.3426125828039386, 'B': 0.1831100360885212, 'C': 0.3589554139624179, 'D': 0.11532196714512237}\n",
            "{'A': 0.17089814583839857, 'B': 0.11013203261515446, 'C': 0.15693832769811708, 'D': 0.08430629508296261}\n",
            "{'A': 0.16530181765163632, 'B': 0.15035426568008403, 'C': 0.15035426568008403, 'D': 0.08010060588387877}\n",
            "{}\n"
          ]
        }
      ],
      "source": [
        "import numpy as np\n",
        "def pagerank(graph, damping_factor=0.85, iterations=100, tolerance=1e-6):\n",
        "    num_pages = len(graph)\n",
        "    if num_pages == 0:\n",
        "        return {}  # Handle empty graph case\n",
        "\n",
        "    # Initialize PageRank scores to 1/N for all pages\n",
        "    page_ranks = {page: 1.0 / num_pages for page in graph}\n",
        "\n",
        "    for _ in range(iterations):\n",
        "        new_page_ranks = {}\n",
        "        max_change = 0  # To track convergence\n",
        "\n",
        "        for page in graph:\n",
        "            rank_sum = 0\n",
        "\n",
        "            # Iterate through all pages to find those linking to 'page'\n",
        "            for linking_page in graph:\n",
        "\n",
        "                # Check if linking_page links to page. Handle cases where a page has no outlinks\n",
        "                if page in graph.get(linking_page, []):\n",
        "\n",
        "                    # Handle dangling nodes (pages with no outlinks)\n",
        "                    rank_sum += page_ranks[linking_page] / len(graph.get(linking_page, []) or [1])\n",
        "\n",
        "            new_page_ranks[page] = (1 - damping_factor) / num_pages + damping_factor * rank_sum\n",
        "            max_change = max(max_change, abs(new_page_ranks[page] - page_ranks[page]))\n",
        "\n",
        "        page_ranks = new_page_ranks\n",
        "\n",
        "        if max_change < tolerance:\n",
        "            break  # Convergence achieved\n",
        "\n",
        "    return page_ranks\n",
        "\n",
        "\n",
        "\n",
        "# Example usage (you can adapt this to your graph structure):\n",
        "graph = {\n",
        "    \"A\": [\"B\", \"C\"],\n",
        "    \"B\": [\"C\", \"D\"],\n",
        "    \"C\": [\"A\"],\n",
        "    \"D\": [\"C\"]\n",
        "}\n",
        "\n",
        "page_ranks = pagerank(graph)\n",
        "print(page_ranks)\n",
        "\n",
        "\n",
        "# Example with a dangling node:\n",
        "graph_dangling = {\n",
        "    \"A\": [\"B\", \"C\"],\n",
        "    \"B\": [\"C\", \"D\"],\n",
        "    \"C\": [\"A\"],\n",
        "    \"D\": []  # D is a dangling node\n",
        "}\n",
        "\n",
        "page_ranks_dangling = pagerank(graph_dangling)\n",
        "print(page_ranks_dangling)\n",
        "\n",
        "# Example with a node pointing to itself and a dangling node:\n",
        "graph_self_loop = {\n",
        "    \"A\": [\"B\", \"C\"],\n",
        "    \"B\": [\"C\", \"D\", \"B\"],  # B has a self-loop\n",
        "    \"C\": [\"A\"],\n",
        "    \"D\": []  # D is a dangling node\n",
        "}\n",
        "\n",
        "page_ranks_self_loop = pagerank(graph_self_loop)\n",
        "print(page_ranks_self_loop)\n",
        "\n",
        "\n",
        "\n",
        "# Example with an empty graph:\n",
        "empty_graph = {}\n",
        "empty_ranks = pagerank(empty_graph)\n",
        "print(empty_ranks)"
      ]
    },
    {
      "cell_type": "markdown",
      "source": [
        "**INFERENCE:**\n",
        "\n",
        "1. The PageRank algorithm assigns an initial equal rank to all pages and updates their ranks iteratively based on incoming links. Pages with more inbound links from important pages receive higher ranks, ensuring a fair distribution of importance.\n",
        "\n",
        "2. The damping factor (0.85 by default) simulates the probability of a user following links versus jumping to a random page. This prevents rank accumulation in disconnected subgraphs and ensures stability in ranking.\n",
        "\n",
        "3. The algorithm handles dangling nodes (pages with no outgoing links) by redistributing their rank equally among all pages, preventing rank loss and ensuring proper convergence.\n",
        "\n",
        "4. Self-loops (a page linking to itself) do not artificially boost its rank since the algorithm fairly distributes rank based on external incoming links rather than internal ones.\n",
        "\n",
        "5. The algorithm stops iterating when the difference between consecutive rank updates is smaller than the given tolerance, ensuring efficient convergence and reducing unnecessary computations.\n",
        "\n",
        "\n",
        "\n",
        "\n",
        "\n",
        "\n",
        "\n"
      ],
      "metadata": {
        "id": "Qj3APSy18wfA"
      }
    }
  ]
}
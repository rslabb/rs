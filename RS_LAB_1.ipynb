{
  "nbformat": 4,
  "nbformat_minor": 0,
  "metadata": {
    "colab": {
      "provenance": []
    },
    "kernelspec": {
      "name": "python3",
      "display_name": "Python 3"
    },
    "language_info": {
      "name": "python"
    }
  },
  "cells": [
    {
      "cell_type": "markdown",
      "source": [
        "# **1. The Euclidean Distance**\n"
      ],
      "metadata": {
        "id": "GFnShvBBgAZ9"
      }
    },
    {
      "cell_type": "code",
      "source": [
        "#using euclidean Formula\n",
        "# Import NumPy Library\n",
        "import numpy as np\n",
        "# initializing points in numpy arrays\n",
        "P1 = np.array((9, 2, 3))\n",
        "P2 = np.array((1, 4, 7))\n",
        "# subtracting both the vectors\n",
        "temp = P1 - P2\n",
        "# Using Formula\n",
        "euclid_dist = np.sqrt(np.dot(temp.T, temp))\n",
        "# printing Euclidean distance\n",
        "print(euclid_dist)"
      ],
      "metadata": {
        "id": "NbuY4yH2fp-6",
        "colab": {
          "base_uri": "https://localhost:8080/"
        },
        "outputId": "8c0c8dfb-36c3-4724-84eb-c3965487ca06"
      },
      "execution_count": null,
      "outputs": [
        {
          "output_type": "stream",
          "name": "stdout",
          "text": [
            "9.16515138991168\n"
          ]
        }
      ]
    },
    {
      "cell_type": "markdown",
      "source": [
        "**INFERENCE:**\n",
        "\n",
        "It find the distance between the points in muti-dimensional vector\n",
        "\n",
        "Points 1 (a1, b1, c1)\n",
        "\n",
        "Points 2 (a2, b2, c2)\n",
        "\n",
        "Euclidean Distance:\n",
        "\n",
        "sqrt((a1-a2)^2, (b1-b2)^2, (c1-c2)^2)"
      ],
      "metadata": {
        "id": "4olmUM76fsri"
      }
    },
    {
      "cell_type": "code",
      "source": [
        "# using distance euclidean() method\n",
        "# Import SciPi Library\n",
        "\n",
        "from scipy.spatial import distance\n",
        "# define the points\n",
        "\n",
        "P1 = (19, 16, 35)\n",
        "P2 = (11,24, 19)\n",
        "\n",
        "# print Euclidean distance\n",
        "print(distance.euclidean(P1,P2))"
      ],
      "metadata": {
        "id": "7N2nrgS8frQg",
        "colab": {
          "base_uri": "https://localhost:8080/"
        },
        "outputId": "a0ccd701-f57d-4023-f3a9-8344c054d5e7"
      },
      "execution_count": null,
      "outputs": [
        {
          "output_type": "stream",
          "name": "stdout",
          "text": [
            "19.595917942265423\n"
          ]
        }
      ]
    },
    {
      "cell_type": "markdown",
      "source": [
        "**INFERENCE:**\n",
        "1. The code imports the distance module from scipy.spatial to compute distances between points.\n",
        "2. It defines two 3D points: P1 = (19, 16, 35) and P2 = (11, 24, 19).\n",
        "3. The distance.euclidean() function calculates the Euclidean distance between the two points.\n",
        "4. The formula used is: sqrt((x2 - x1)^2 + (y2 - y1)^2 + (z2 - z1)^2).\n",
        "5. The output is approximately 19.60, representing the straight-line distance between the points."
      ],
      "metadata": {
        "id": "PeCTCY4c3aeC"
      }
    },
    {
      "cell_type": "markdown",
      "source": [
        "# **2. Manhattans Distance**"
      ],
      "metadata": {
        "id": "vDuHldO24KR4"
      }
    },
    {
      "cell_type": "code",
      "source": [
        "import numpy as np\n",
        "from scipy.spatial.distance import cityblock\n",
        "\n",
        "# Example data points\n",
        "point1 = np.array([1, 2, 3])\n",
        "point2 = np.array([4, 5, 6])\n",
        "\n",
        "manhattan_distance = cityblock(point1, point2)\n",
        "print(f\"Manhattan Distance: {manhattan_distance}\")"
      ],
      "metadata": {
        "colab": {
          "base_uri": "https://localhost:8080/"
        },
        "id": "ZuqPpbe535zp",
        "outputId": "98fe748b-d2cb-4a1e-a9e6-6037a7e6d131"
      },
      "execution_count": null,
      "outputs": [
        {
          "output_type": "stream",
          "name": "stdout",
          "text": [
            "Manhattan Distance: 9\n"
          ]
        }
      ]
    },
    {
      "cell_type": "markdown",
      "source": [
        "**INFERENCE:**\n",
        "\n",
        "1. The code imports numpy and the cityblock function from scipy.spatial.distance to compute Manhattan distance.\n",
        "2. Two 3D points, point1 = [1, 2, 3] and point2 = [4, 5, 6], are defined using numpy arrays.\n",
        "3. The cityblock() function calculates the Manhattan distance between the points, which is the sum of the absolute differences of their coordinates.\n",
        "4. The Manhattan distance formula is:\n",
        "   \n",
        "   Distance = |x2 - x1| + |y2 - y1| + |z2 - z1|\n",
        "5. The output printed will be 9, as the sum of the absolute differences is  |4-1| + |5-2| + |6-3| = 3 + 3 + 3 = 9."
      ],
      "metadata": {
        "id": "qI8fEVjR38W5"
      }
    },
    {
      "cell_type": "markdown",
      "source": [
        "# **3. Cosine Similarity**\n",
        "\n"
      ],
      "metadata": {
        "id": "5hrFXF4kfzOE"
      }
    },
    {
      "cell_type": "code",
      "execution_count": null,
      "metadata": {
        "colab": {
          "base_uri": "https://localhost:8080/"
        },
        "id": "Am6SJyBxUv6S",
        "outputId": "a60028e7-dda5-4627-9a47-977cb7e0e1df"
      },
      "outputs": [
        {
          "output_type": "stream",
          "name": "stdout",
          "text": [
            "[[1 2 3]\n",
            " [1 2 3]\n",
            " [1 2 3]\n",
            " [1 2 3]]\n",
            "Similarity Matrix:\n",
            "[[1. 1. 1. 1.]\n",
            " [1. 1. 1. 1.]\n",
            " [1. 1. 1. 1.]\n",
            " [1. 1. 1. 1.]]\n"
          ]
        }
      ],
      "source": [
        "import numpy as np\n",
        "from sklearn.metrics.pairwise import cosine_similarity\n",
        "\n",
        "# Sample data for items and their features\n",
        "items_data = {'Item1': [1,2,3], 'Item2': [1, 2, 3], 'Item3': [1,2,3], 'Item4': [1,2,3]}\n",
        "\n",
        "# Convert the dictionary to a matrix\n",
        "items_matrix = np.array(list(items_data.values()))\n",
        "print(items_matrix)\n",
        "\n",
        "# Calculate cosine similarity\n",
        "similarity_matrix = cosine_similarity(items_matrix)\n",
        "print(\"Similarity Matrix:\")\n",
        "print(similarity_matrix)\n"
      ]
    },
    {
      "cell_type": "markdown",
      "source": [
        "**INFERENCE:**\n",
        "\n",
        "Cosine Similarity:-\n",
        "Describes the angle between two points\n",
        "1.   The angle is large when two points are far\n",
        "2.   The angle is small when two points are near\n",
        "\n",
        "\n"
      ],
      "metadata": {
        "id": "wQ40XV4pVXff"
      }
    },
    {
      "cell_type": "markdown",
      "source": [
        "Point Similarities:\n",
        "\n",
        "1. Points 1 and 3 (rows 1 and 3) have a very high similarity score of 0.9992, which suggests that these points are nearly identical, despite minor differences in the individual feature values.\n",
        "2. Points 1 and 4 (rows 1 and 4) also have a very high similarity of 0.9979, suggesting that they are highly similar as well.\n",
        "3. Points 2 and 4 (rows 2 and 4) have the second-highest similarity at 0.9926, indicating that these points share significant similarities.\n",
        "4. Points 2 and 3 (rows 2 and 3) have the lowest similarity of 0.9746, although\n",
        "\n",
        "it is still relatively high. This means that Points 2 and 3 are somewhat less similar compared to other pairs.\n",
        "Clustering Insight: Based on the similarity values, you might infer that the data points form two primary clusters:\n",
        "\n",
        "1. Cluster 1: Points 1, 3, and 4 are highly similar to each other and could be considered as part of one cluster.\n",
        "2. Cluster 2: Point 2 is somewhat less similar to the other points but still has strong similarities with Points 3 and 4. This suggests that while Point 2 might stand apart slightly, it still shares enough similarity to potentially be grouped with the others."
      ],
      "metadata": {
        "id": "gADM8PH3YTlm"
      }
    },
    {
      "cell_type": "markdown",
      "source": [
        "# **4. Jaccard Similarity**"
      ],
      "metadata": {
        "id": "fiSCjjUV4a7G"
      }
    },
    {
      "cell_type": "code",
      "source": [
        "import numpy as np\n",
        "from sklearn.metrics import jaccard_score\n",
        "\n",
        "point1_binary = np.array([1, 1, 0, 0, 1])\n",
        "point2_binary = np.array([1, 0, 1, 1, 0])\n",
        "\n",
        "jaccard_similarity = jaccard_score(point1_binary, point2_binary)\n",
        "print(f\"Jaccard Similarity: {jaccard_similarity}\")"
      ],
      "metadata": {
        "colab": {
          "base_uri": "https://localhost:8080/"
        },
        "id": "J9eyy8fe4U_P",
        "outputId": "3642142d-8241-4082-9ca3-d7f9f08e1e67"
      },
      "execution_count": null,
      "outputs": [
        {
          "output_type": "stream",
          "name": "stdout",
          "text": [
            "Jaccard Similarity: 0.2\n"
          ]
        }
      ]
    },
    {
      "cell_type": "markdown",
      "source": [
        "**INFERENCE:**\n",
        "1. The code imports numpy and the jaccard_score function from sklearn.metrics to compute the **Jaccard similarity**.\n",
        "2. Two binary arrays, point1_binary = [1, 1, 0, 0, 1] and point2_binary = [1, 0, 1, 1, 0], represent two sets.\n",
        "3. The jaccard_score() function calculates the Jaccard similarity, which measures the ratio of the intersection to the union of the two sets.\n",
        "4. The formula for Jaccard similarity is:\n",
        "\n",
        "   Jaccard = Intersection of sets / Union of sets\n",
        "5. The output printed will be 0. as the intersection of the sets is 1 and the union is 5. So, 1/5 = 0.2."
      ],
      "metadata": {
        "id": "61KY99fi4gh-"
      }
    },
    {
      "cell_type": "markdown",
      "source": [
        "# **5. Minkowski Distance**"
      ],
      "metadata": {
        "id": "PBYb-zU94rnu"
      }
    },
    {
      "cell_type": "code",
      "source": [
        "import numpy as np\n",
        "from scipy.spatial.distance import minkowski\n",
        "\n",
        "# Example data points\n",
        "point1 = np.array([1, 2, 3])\n",
        "point2 = np.array([4, 5, 6])\n",
        "\n",
        "p = 3\n",
        "minkowski_distance = minkowski(point1, point2, p)\n",
        "print(f\"Minkowski Distance (p={p}): {minkowski_distance}\")"
      ],
      "metadata": {
        "colab": {
          "base_uri": "https://localhost:8080/"
        },
        "id": "PlSUEli54vKv",
        "outputId": "50f468fb-beac-43e6-fc27-a90b3419612d"
      },
      "execution_count": null,
      "outputs": [
        {
          "output_type": "stream",
          "name": "stdout",
          "text": [
            "Minkowski Distance (p=3): 4.3267487109222245\n"
          ]
        }
      ]
    },
    {
      "cell_type": "markdown",
      "source": [
        "**INFERENCE:**\n",
        "1. The code imports numpy and the minkowski function from scipy.spatial.distance to calculate the Minkowski distance.\n",
        "2. Two 3D points, point1 = [1, 2, 3] and point2 = [4, 5, 6], are defined using numpy arrays.\n",
        "3. The variable p = 3 specifies the order of the Minkowski distance, which generalizes other distance metrics\n",
        "4. The output printed will be the **Minkowski distance** for \\( p = 3 \\), which is calculated as:\n",
        "\n",
        "  [ |4-1| ^ 3 + |5-2| ^ 3 + |6-3| ^ 3] ^ (1/3) = (27 + 27 + 27) ^ (1/3) = 81 ^ (1/3) = 4.326"
      ],
      "metadata": {
        "id": "xWyAwcd44yV2"
      }
    }
  ]
}
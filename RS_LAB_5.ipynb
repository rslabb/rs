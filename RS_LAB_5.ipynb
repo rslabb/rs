{
  "nbformat": 4,
  "nbformat_minor": 0,
  "metadata": {
    "colab": {
      "provenance": []
    },
    "kernelspec": {
      "name": "python3",
      "display_name": "Python 3"
    },
    "language_info": {
      "name": "python"
    }
  },
  "cells": [
    {
      "cell_type": "code",
      "execution_count": null,
      "metadata": {
        "id": "pUTV2nS54kON",
        "outputId": "6ac0184d-906b-4d77-f4b5-72e52eeab2aa",
        "colab": {
          "base_uri": "https://localhost:8080/"
        }
      },
      "outputs": [
        {
          "output_type": "stream",
          "name": "stdout",
          "text": [
            "Recommended movies for movie ID 1: [364, 588, 34, 596, 595]\n"
          ]
        }
      ],
      "source": [
        "import pandas as pd\n",
        "import numpy as np\n",
        "from sklearn.metrics.pairwise import cosine_similarity\n",
        "\n",
        "# Load dataset\n",
        "file_path = \"/content/genome_scores.csv\"\n",
        "df = pd.read_csv(file_path)\n",
        "\n",
        "# Step 1: Build Item-Feature Matrix\n",
        "item_feature_matrix = df.pivot(index='movieId', columns='tagId', values='relevance').fillna(0)\n",
        "\n",
        "# Step 2: Compute Item Similarity\n",
        "item_similarity = cosine_similarity(item_feature_matrix)\n",
        "\n",
        "# Convert similarity matrix to DataFrame\n",
        "item_similarity_df = pd.DataFrame(item_similarity, index=item_feature_matrix.index, columns=item_feature_matrix.index)\n",
        "\n",
        "# Step 3: Generate Recommendations\n",
        "def recommend_items(movie_id, item_similarity_df, top_n=5):\n",
        "    similar_items = item_similarity_df[movie_id].sort_values(ascending=False)[1:top_n+1]\n",
        "    return similar_items.index.tolist()\n",
        "\n",
        "# Example: Get top 5 recommendations for a specific movie\n",
        "movie_id = 1  # Example movieId\n",
        "recommendations = recommend_items(movie_id, item_similarity_df)\n",
        "\n",
        "# Display recommended movies\n",
        "print(f\"Recommended movies for movie ID {movie_id}: {recommendations}\")\n"
      ]
    }
  ]
}
{
  "nbformat": 4,
  "nbformat_minor": 0,
  "metadata": {
    "colab": {
      "provenance": []
    },
    "kernelspec": {
      "name": "python3",
      "display_name": "Python 3"
    },
    "language_info": {
      "name": "python"
    }
  },
  "cells": [
    {
      "cell_type": "markdown",
      "source": [
        "# EXP NO 3- Implement User Profile Learning using python to design a recommender system"
      ],
      "metadata": {
        "id": "oI-UgFybGdj_"
      }
    },
    {
      "cell_type": "code",
      "source": [
        "import pandas as pd\n",
        "import numpy as np\n",
        "from sklearn.feature_extraction.text import TfidfVectorizer\n",
        "from sklearn.metrics.pairwise import cosine_similarity\n",
        "\n",
        "# Load dataset\n",
        "file_path = \"/content/movies.csv\"\n",
        "df = pd.read_csv(file_path)\n",
        "\n",
        "# Generate sample user ratings for a subset of movies\n",
        "np.random.seed(42)\n",
        "sample_users = [1, 2, 3, 4, 5]\n",
        "sample_movies = df.sample(n=10, random_state=42)  # Pick 10 random movies\n",
        "\n",
        "ratings_data = []\n",
        "for user in sample_users:\n",
        "    for _, row in sample_movies.iterrows():\n",
        "        ratings_data.append([user, row['movieId'], np.random.randint(1, 6), row['genres']])\n",
        "\n",
        "# Create a DataFrame for user ratings\n",
        "ratings_df = pd.DataFrame(ratings_data, columns=['user_id', 'item_id', 'rating', 'item_features'])\n",
        "\n",
        "# Step 1: Build User-Item Interaction Matrix\n",
        "user_item_matrix = ratings_df.pivot_table(index='user_id', columns='item_id', values='rating', fill_value=0)\n",
        "\n",
        "# Step 2: Content-Based Filtering - Build Item Profiles\n",
        "vectorizer = TfidfVectorizer()\n",
        "tfidf_matrix = vectorizer.fit_transform(ratings_df.drop_duplicates(subset='item_id')['item_features'])\n",
        "\n",
        "# Compute item similarity matrix\n",
        "item_similarity = cosine_similarity(tfidf_matrix, tfidf_matrix)\n",
        "\n",
        "# Step 3: Generate User Profiles\n",
        "def build_user_profiles(user_item_matrix, item_similarity):\n",
        "    user_profiles = {}\n",
        "    for user_id in user_item_matrix.index:\n",
        "        user_ratings = user_item_matrix.loc[user_id].values\n",
        "        weighted_avg_profile = np.dot(user_ratings, item_similarity) / (np.sum(user_ratings) + 1e-10)\n",
        "        user_profiles[user_id] = weighted_avg_profile\n",
        "    return user_profiles\n",
        "\n",
        "user_profiles = build_user_profiles(user_item_matrix, item_similarity)\n",
        "\n",
        "# Step 4: Make Recommendations\n",
        "def recommend_items(user_id, user_profiles, item_similarity, item_ids, top_n=3):\n",
        "    user_profile = user_profiles[user_id]\n",
        "    scores = np.dot(user_profile, item_similarity)\n",
        "    item_scores = dict(zip(item_ids, scores))\n",
        "    recommended_items = sorted(item_scores, key=item_scores.get, reverse=True)[:top_n]\n",
        "    return recommended_items\n",
        "\n",
        "# Recommend items for a user\n",
        "item_ids = ratings_df.drop_duplicates(subset='item_id')['item_id'].values\n",
        "recommendations = recommend_items(1, user_profiles, item_similarity, item_ids)\n",
        "\n",
        "# Display recommended movies\n",
        "recommended_movies = df[df['movieId'].isin(recommendations)][['movieId', 'title', 'genres']]\n",
        "print(\"Recommended Movies for User 1:\")\n",
        "print(recommended_movies)\n"
      ],
      "metadata": {
        "colab": {
          "base_uri": "https://localhost:8080/"
        },
        "id": "t8BVLt7Wc499",
        "outputId": "800c46a0-4854-4e67-eb7f-db1c994c4de3"
      },
      "execution_count": null,
      "outputs": [
        {
          "output_type": "stream",
          "name": "stdout",
          "text": [
            "Recommended Movies for User 1:\n",
            "      movieId                              title        genres\n",
            "1111     1446               Kolya (Kolja) (1996)  Comedy|Drama\n",
            "5353     8920           Country Girl, The (1954)         Drama\n",
            "6213    45635  Notorious Bettie Page, The (2005)         Drama\n"
          ]
        }
      ]
    }
  ]
}